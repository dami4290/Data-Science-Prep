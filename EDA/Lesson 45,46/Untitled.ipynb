{
 "cells": [
  {
   "cell_type": "code",
   "execution_count": 2,
   "id": "e5998f9f-1919-43a5-b55b-ee51c6e7db04",
   "metadata": {},
   "outputs": [],
   "source": [
    "import pandas as pd"
   ]
  },
  {
   "cell_type": "code",
   "execution_count": 3,
   "id": "754fd757-575d-4910-8a4e-e177c3f324fb",
   "metadata": {},
   "outputs": [],
   "source": [
    "df=pd.read_csv(\"Earnings_and_Height.csv\")"
   ]
  },
  {
   "cell_type": "code",
   "execution_count": 4,
   "id": "dbd706ad-605c-43f9-b272-a29763b73843",
   "metadata": {},
   "outputs": [
    {
     "data": {
      "text/html": [
       "<div>\n",
       "<style scoped>\n",
       "    .dataframe tbody tr th:only-of-type {\n",
       "        vertical-align: middle;\n",
       "    }\n",
       "\n",
       "    .dataframe tbody tr th {\n",
       "        vertical-align: top;\n",
       "    }\n",
       "\n",
       "    .dataframe thead th {\n",
       "        text-align: right;\n",
       "    }\n",
       "</style>\n",
       "<table border=\"1\" class=\"dataframe\">\n",
       "  <thead>\n",
       "    <tr style=\"text-align: right;\">\n",
       "      <th></th>\n",
       "      <th>sex</th>\n",
       "      <th>age</th>\n",
       "      <th>mrd</th>\n",
       "      <th>educ</th>\n",
       "      <th>cworker</th>\n",
       "      <th>region</th>\n",
       "      <th>race</th>\n",
       "      <th>earnings</th>\n",
       "      <th>height</th>\n",
       "      <th>weight</th>\n",
       "      <th>occupation</th>\n",
       "    </tr>\n",
       "  </thead>\n",
       "  <tbody>\n",
       "    <tr>\n",
       "      <th>0</th>\n",
       "      <td>0</td>\n",
       "      <td>48</td>\n",
       "      <td>1</td>\n",
       "      <td>13</td>\n",
       "      <td>1</td>\n",
       "      <td>3</td>\n",
       "      <td>1</td>\n",
       "      <td>84054.75000</td>\n",
       "      <td>65</td>\n",
       "      <td>133</td>\n",
       "      <td>1</td>\n",
       "    </tr>\n",
       "    <tr>\n",
       "      <th>1</th>\n",
       "      <td>0</td>\n",
       "      <td>41</td>\n",
       "      <td>6</td>\n",
       "      <td>12</td>\n",
       "      <td>1</td>\n",
       "      <td>2</td>\n",
       "      <td>1</td>\n",
       "      <td>14021.39453</td>\n",
       "      <td>65</td>\n",
       "      <td>155</td>\n",
       "      <td>1</td>\n",
       "    </tr>\n",
       "    <tr>\n",
       "      <th>2</th>\n",
       "      <td>0</td>\n",
       "      <td>26</td>\n",
       "      <td>1</td>\n",
       "      <td>16</td>\n",
       "      <td>1</td>\n",
       "      <td>1</td>\n",
       "      <td>1</td>\n",
       "      <td>84054.75000</td>\n",
       "      <td>60</td>\n",
       "      <td>108</td>\n",
       "      <td>1</td>\n",
       "    </tr>\n",
       "    <tr>\n",
       "      <th>3</th>\n",
       "      <td>0</td>\n",
       "      <td>37</td>\n",
       "      <td>1</td>\n",
       "      <td>16</td>\n",
       "      <td>1</td>\n",
       "      <td>2</td>\n",
       "      <td>1</td>\n",
       "      <td>84054.75000</td>\n",
       "      <td>67</td>\n",
       "      <td>150</td>\n",
       "      <td>1</td>\n",
       "    </tr>\n",
       "    <tr>\n",
       "      <th>4</th>\n",
       "      <td>0</td>\n",
       "      <td>35</td>\n",
       "      <td>6</td>\n",
       "      <td>16</td>\n",
       "      <td>1</td>\n",
       "      <td>1</td>\n",
       "      <td>1</td>\n",
       "      <td>28560.38672</td>\n",
       "      <td>68</td>\n",
       "      <td>180</td>\n",
       "      <td>1</td>\n",
       "    </tr>\n",
       "  </tbody>\n",
       "</table>\n",
       "</div>"
      ],
      "text/plain": [
       "   sex  age  mrd  educ  cworker  region  race     earnings  height  weight  \\\n",
       "0    0   48    1    13        1       3     1  84054.75000      65     133   \n",
       "1    0   41    6    12        1       2     1  14021.39453      65     155   \n",
       "2    0   26    1    16        1       1     1  84054.75000      60     108   \n",
       "3    0   37    1    16        1       2     1  84054.75000      67     150   \n",
       "4    0   35    6    16        1       1     1  28560.38672      68     180   \n",
       "\n",
       "   occupation  \n",
       "0           1  \n",
       "1           1  \n",
       "2           1  \n",
       "3           1  \n",
       "4           1  "
      ]
     },
     "execution_count": 4,
     "metadata": {},
     "output_type": "execute_result"
    }
   ],
   "source": [
    "df.head()"
   ]
  },
  {
   "cell_type": "code",
   "execution_count": 5,
   "id": "8f7cffea-bf9c-4495-bddc-501e1b740f44",
   "metadata": {},
   "outputs": [
    {
     "data": {
      "text/plain": [
       "<Axes: >"
      ]
     },
     "execution_count": 5,
     "metadata": {},
     "output_type": "execute_result"
    },
    {
     "data": {
      "image/png": "[encoded data removed]",
      "text/plain": [
       "<Figure size 640x480 with 1 Axes>"
      ]
     },
     "metadata": {},
     "output_type": "display_data"
    }
   ],
   "source": [
    "df['sex'].plot.bar()"
   ]
  },
  {
   "cell_type": "code",
   "execution_count": 6,
   "id": "490f5bcb-97b9-4d95-94b9-361a0ddb2258",
   "metadata": {},
   "outputs": [
    {
     "data": {
      "text/plain": [
       "sex\n",
       "0    9974\n",
       "1    7896\n",
       "Name: count, dtype: int64"
      ]
     },
     "execution_count": 6,
     "metadata": {},
     "output_type": "execute_result"
    }
   ],
   "source": [
    "df['sex'].value_counts()"
   ]
  },
  {
   "cell_type": "code",
   "execution_count": 7,
   "id": "199e34e3-7fae-4272-9ec1-e01f87354a93",
   "metadata": {},
   "outputs": [
    {
     "data": {
      "text/html": [
       "<div>\n",
       "<style scoped>\n",
       "    .dataframe tbody tr th:only-of-type {\n",
       "        vertical-align: middle;\n",
       "    }\n",
       "\n",
       "    .dataframe tbody tr th {\n",
       "        vertical-align: top;\n",
       "    }\n",
       "\n",
       "    .dataframe thead th {\n",
       "        text-align: right;\n",
       "    }\n",
       "</style>\n",
       "<table border=\"1\" class=\"dataframe\">\n",
       "  <thead>\n",
       "    <tr style=\"text-align: right;\">\n",
       "      <th></th>\n",
       "      <th>sex</th>\n",
       "      <th>age</th>\n",
       "      <th>mrd</th>\n",
       "      <th>educ</th>\n",
       "      <th>cworker</th>\n",
       "      <th>region</th>\n",
       "      <th>race</th>\n",
       "      <th>earnings</th>\n",
       "      <th>height</th>\n",
       "      <th>weight</th>\n",
       "      <th>occupation</th>\n",
       "    </tr>\n",
       "  </thead>\n",
       "  <tbody>\n",
       "    <tr>\n",
       "      <th>count</th>\n",
       "      <td>17870.000000</td>\n",
       "      <td>17870.000000</td>\n",
       "      <td>17870.000000</td>\n",
       "      <td>17870.000000</td>\n",
       "      <td>17870.000000</td>\n",
       "      <td>17870.000000</td>\n",
       "      <td>17870.000000</td>\n",
       "      <td>17870.000000</td>\n",
       "      <td>17870.000000</td>\n",
       "      <td>17870.000000</td>\n",
       "      <td>17870.000000</td>\n",
       "    </tr>\n",
       "    <tr>\n",
       "      <th>mean</th>\n",
       "      <td>0.441858</td>\n",
       "      <td>40.919530</td>\n",
       "      <td>2.361612</td>\n",
       "      <td>13.537325</td>\n",
       "      <td>1.963514</td>\n",
       "      <td>2.551315</td>\n",
       "      <td>1.386234</td>\n",
       "      <td>46875.322108</td>\n",
       "      <td>66.963346</td>\n",
       "      <td>170.356743</td>\n",
       "      <td>6.011136</td>\n",
       "    </tr>\n",
       "    <tr>\n",
       "      <th>std</th>\n",
       "      <td>0.496622</td>\n",
       "      <td>10.037515</td>\n",
       "      <td>1.940425</td>\n",
       "      <td>2.641873</td>\n",
       "      <td>1.640235</td>\n",
       "      <td>1.041595</td>\n",
       "      <td>0.794668</td>\n",
       "      <td>26923.289990</td>\n",
       "      <td>3.967500</td>\n",
       "      <td>51.417209</td>\n",
       "      <td>4.191688</td>\n",
       "    </tr>\n",
       "    <tr>\n",
       "      <th>min</th>\n",
       "      <td>0.000000</td>\n",
       "      <td>25.000000</td>\n",
       "      <td>1.000000</td>\n",
       "      <td>0.000000</td>\n",
       "      <td>1.000000</td>\n",
       "      <td>1.000000</td>\n",
       "      <td>1.000000</td>\n",
       "      <td>4726.391113</td>\n",
       "      <td>48.000000</td>\n",
       "      <td>80.000000</td>\n",
       "      <td>1.000000</td>\n",
       "    </tr>\n",
       "    <tr>\n",
       "      <th>25%</th>\n",
       "      <td>0.000000</td>\n",
       "      <td>33.000000</td>\n",
       "      <td>1.000000</td>\n",
       "      <td>12.000000</td>\n",
       "      <td>1.000000</td>\n",
       "      <td>2.000000</td>\n",
       "      <td>1.000000</td>\n",
       "      <td>23362.873050</td>\n",
       "      <td>64.000000</td>\n",
       "      <td>140.000000</td>\n",
       "      <td>2.000000</td>\n",
       "    </tr>\n",
       "    <tr>\n",
       "      <th>50%</th>\n",
       "      <td>0.000000</td>\n",
       "      <td>40.000000</td>\n",
       "      <td>1.000000</td>\n",
       "      <td>13.000000</td>\n",
       "      <td>1.000000</td>\n",
       "      <td>3.000000</td>\n",
       "      <td>1.000000</td>\n",
       "      <td>38925.335940</td>\n",
       "      <td>67.000000</td>\n",
       "      <td>163.000000</td>\n",
       "      <td>5.000000</td>\n",
       "    </tr>\n",
       "    <tr>\n",
       "      <th>75%</th>\n",
       "      <td>1.000000</td>\n",
       "      <td>48.000000</td>\n",
       "      <td>4.000000</td>\n",
       "      <td>16.000000</td>\n",
       "      <td>3.000000</td>\n",
       "      <td>3.000000</td>\n",
       "      <td>1.000000</td>\n",
       "      <td>84054.750000</td>\n",
       "      <td>70.000000</td>\n",
       "      <td>190.000000</td>\n",
       "      <td>8.000000</td>\n",
       "    </tr>\n",
       "    <tr>\n",
       "      <th>max</th>\n",
       "      <td>1.000000</td>\n",
       "      <td>65.000000</td>\n",
       "      <td>6.000000</td>\n",
       "      <td>19.000000</td>\n",
       "      <td>6.000000</td>\n",
       "      <td>4.000000</td>\n",
       "      <td>4.000000</td>\n",
       "      <td>84054.750000</td>\n",
       "      <td>84.000000</td>\n",
       "      <td>501.000000</td>\n",
       "      <td>15.000000</td>\n",
       "    </tr>\n",
       "  </tbody>\n",
       "</table>\n",
       "</div>"
      ],
      "text/plain": [
       "                sex           age           mrd          educ       cworker  \\\n",
       "count  17870.000000  17870.000000  17870.000000  17870.000000  17870.000000   \n",
       "mean       0.441858     40.919530      2.361612     13.537325      1.963514   \n",
       "std        0.496622     10.037515      1.940425      2.641873      1.640235   \n",
       "min        0.000000     25.000000      1.000000      0.000000      1.000000   \n",
       "25%        0.000000     33.000000      1.000000     12.000000      1.000000   \n",
       "50%        0.000000     40.000000      1.000000     13.000000      1.000000   \n",
       "75%        1.000000     48.000000      4.000000     16.000000      3.000000   \n",
       "max        1.000000     65.000000      6.000000     19.000000      6.000000   \n",
       "\n",
       "             region          race      earnings        height        weight  \\\n",
       "count  17870.000000  17870.000000  17870.000000  17870.000000  17870.000000   \n",
       "mean       2.551315      1.386234  46875.322108     66.963346    170.356743   \n",
       "std        1.041595      0.794668  26923.289990      3.967500     51.417209   \n",
       "min        1.000000      1.000000   4726.391113     48.000000     80.000000   \n",
       "25%        2.000000      1.000000  23362.873050     64.000000    140.000000   \n",
       "50%        3.000000      1.000000  38925.335940     67.000000    163.000000   \n",
       "75%        3.000000      1.000000  84054.750000     70.000000    190.000000   \n",
       "max        4.000000      4.000000  84054.750000     84.000000    501.000000   \n",
       "\n",
       "         occupation  \n",
       "count  17870.000000  \n",
       "mean       6.011136  \n",
       "std        4.191688  \n",
       "min        1.000000  \n",
       "25%        2.000000  \n",
       "50%        5.000000  \n",
       "75%        8.000000  \n",
       "max       15.000000  "
      ]
     },
     "execution_count": 7,
     "metadata": {},
     "output_type": "execute_result"
    }
   ],
   "source": [
    "df.describe()"
   ]
  },
  {
   "cell_type": "code",
   "execution_count": 8,
   "id": "59db3c3e-fc9d-497e-917c-b4f9a31650af",
   "metadata": {},
   "outputs": [
    {
     "data": {
      "text/plain": [
       "count    17870.000000\n",
       "mean         0.441858\n",
       "std          0.496622\n",
       "min          0.000000\n",
       "25%          0.000000\n",
       "50%          0.000000\n",
       "75%          1.000000\n",
       "max          1.000000\n",
       "Name: sex, dtype: float64"
      ]
     },
     "execution_count": 8,
     "metadata": {},
     "output_type": "execute_result"
    }
   ],
   "source": [
    "df['sex'].describe()"
   ]
  },
  {
   "cell_type": "code",
   "execution_count": 14,
   "id": "62a8d334-479d-42ff-a75a-eaca384b7aa8",
   "metadata": {},
   "outputs": [
    {
     "data": {
      "text/plain": [
       "6.011135982092893"
      ]
     },
     "execution_count": 14,
     "metadata": {},
     "output_type": "execute_result"
    },
    {
     "data": {
      "image/png": "[encoded data removed]",
      "text/plain": [
       "<Figure size 640x480 with 1 Axes>"
      ]
     },
     "metadata": {},
     "output_type": "display_data"
    }
   ],
   "source": [
    "df['occupation'].value_counts().plot.bar()"
   ]
  },
  {
   "cell_type": "code",
   "execution_count": 15,
   "id": "c816d09f-ce02-4e54-a148-416c637f9035",
   "metadata": {},
   "outputs": [
    {
     "data": {
      "text/plain": [
       "6.011135982092893"
      ]
     },
     "execution_count": 15,
     "metadata": {},
     "output_type": "execute_result"
    }
   ],
   "source": [
    "df['occupation'].mean()"
   ]
  },
  {
   "cell_type": "code",
   "execution_count": 16,
   "id": "df425ac3-a856-46d1-9e86-22ff2796384a",
   "metadata": {},
   "outputs": [
    {
     "data": {
      "text/plain": [
       "4.191688115200147"
      ]
     },
     "execution_count": 16,
     "metadata": {},
     "output_type": "execute_result"
    }
   ],
   "source": [
    "df['occupation'].std()"
   ]
  },
  {
   "cell_type": "code",
   "execution_count": null,
   "id": "0777e931-9e1e-4ca1-961f-db81da39b2bb",
   "metadata": {},
   "outputs": [],
   "source": []
  }
 ],
 "metadata": {
  "kernelspec": {
   "display_name": "Python 3 (ipykernel)",
   "language": "python",
   "name": "python3"
  },
  "language_info": {
   "codemirror_mode": {
    "name": "ipython",
    "version": 3
   },
   "file_extension": ".py",
   "mimetype": "text/x-python",
   "name": "python",
   "nbconvert_exporter": "python",
   "pygments_lexer": "ipython3",
   "version": "3.10.13"
  }
 },
 "nbformat": 4,
 "nbformat_minor": 5
}
