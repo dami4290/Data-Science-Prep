{
  "nbformat": 4,
  "nbformat_minor": 0,
  "metadata": {
    "colab": {
      "provenance": []
    },
    "kernelspec": {
      "name": "python3",
      "display_name": "Python 3"
    },
    "language_info": {
      "name": "python"
    }
  },
  "cells": [
    {
      "cell_type": "markdown",
      "source": [
        "# Case Study - Earnings and Height\n",
        "\n",
        "In this notebook, you will explore the relationship between earnings and various factors, including height."
      ],
      "metadata": {
        "id": "ExrsJ-UCHYaU"
      }
    },
    {
      "cell_type": "markdown",
      "source": [
        "## Read in the Data\n",
        "\n",
        "The data is available as an Excel file from [this website](https://www.princeton.edu/~mwatson/Stock-Watson_3u/Students/Stock-Watson-EmpiricalExercises-DataSets.htm). Look for the data file under \"Earnings and Height\". You may want to read the Data Description as well.\n",
        "\n",
        "Remember that you have to export the Excel file as a CSV, then upload the CSV to the Colab runtime. Review the [\"Introduction to Pandas\"](https://colab.research.google.com/drive/1WqZp7iWh10505_nq09DfEzToL4uvpqzq?usp=sharing) notebook from last week for instructions on how to do this."
      ],
      "metadata": {
        "id": "yfbKq1c0HxJ9"
      }
    },
    {
      "cell_type": "code",
      "source": [
        "import pandas as pd"
      ],
      "metadata": {
        "id": "CSF9TxFeJEaX"
      },
      "execution_count": null,
      "outputs": []
    },
    {
      "cell_type": "code",
      "execution_count": null,
      "metadata": {
        "id": "wviNH5jEGwDW"
      },
      "outputs": [],
      "source": [
        "# Read in the data into a DataFrame called `df_workers`.\n",
        "df_workers ="
      ]
    },
    {
      "cell_type": "markdown",
      "source": [
        "## Analyzing One Quantitative Variable"
      ],
      "metadata": {
        "id": "28ZNuMazKhI_"
      }
    },
    {
      "cell_type": "markdown",
      "source": [
        "**Exercise 1.** Make a visualization showing the distribution of earnings. Summarize the center and spread of the data. Describe what you see."
      ],
      "metadata": {
        "id": "dh5VDnmZJf4H"
      }
    },
    {
      "cell_type": "code",
      "source": [
        "# YOUR CODE HERE"
      ],
      "metadata": {
        "id": "ft6fsX8rJI6J"
      },
      "execution_count": null,
      "outputs": []
    },
    {
      "cell_type": "markdown",
      "source": [
        "_DESCRIBE WHAT YOU SEE HERE._"
      ],
      "metadata": {
        "id": "FzMW92a_K4_5"
      }
    },
    {
      "cell_type": "markdown",
      "source": [
        "**Exercise 2.** Make a visualization showing the distribution of years of education. Summarize the center and spread of the data. Describe what you see."
      ],
      "metadata": {
        "id": "Hmt_RmfcKRFW"
      }
    },
    {
      "cell_type": "code",
      "source": [
        "# YOUR CODE HERE"
      ],
      "metadata": {
        "id": "wdwUUKfuJ9X2"
      },
      "execution_count": null,
      "outputs": []
    },
    {
      "cell_type": "markdown",
      "source": [
        "_DESCRIBE WHAT YOU SEE HERE._"
      ],
      "metadata": {
        "id": "KQBnw68RK9yN"
      }
    },
    {
      "cell_type": "markdown",
      "source": [
        "**Exercise 3.** Make a visualization showing the distribution of height. Summarize the center and spread of the data. Describe what you see."
      ],
      "metadata": {
        "id": "pzz9c-GvLCns"
      }
    },
    {
      "cell_type": "code",
      "source": [
        "# YOUR CODE HERE"
      ],
      "metadata": {
        "id": "JmHA73XFK0Ue"
      },
      "execution_count": null,
      "outputs": []
    },
    {
      "cell_type": "markdown",
      "source": [
        "_DESCRIBE WHAT YOU SEE HERE._"
      ],
      "metadata": {
        "id": "zpyoZFiBLZhE"
      }
    },
    {
      "cell_type": "markdown",
      "source": [
        "## Relationships between Two Quantitative Variables"
      ],
      "metadata": {
        "id": "EePT_bRELbZG"
      }
    },
    {
      "cell_type": "markdown",
      "source": [
        "The relationship between two quantitative variables can be _visualized_ using a **scatterplot**. Each observation is represented by a point. The $x$-axis represents one quantitative variable, and the $y$-axis represents another.\n",
        "\n",
        "To make a scatterplot, Pandas provides the plotting method `DataFrame.plot.scatter`. For example, to make a scatterplot showing the relationship between years of education and earnings, we do the following:"
      ],
      "metadata": {
        "id": "6J2SnMSqLnNY"
      }
    },
    {
      "cell_type": "code",
      "source": [
        "df_workers.plot.scatter(x=\"educ\", y=\"earnings\")"
      ],
      "metadata": {
        "id": "U-Q8wwn3MKDD"
      },
      "execution_count": null,
      "outputs": []
    },
    {
      "cell_type": "markdown",
      "source": [
        "The relationship between two quantitative variables $X$ and $Y$ can be summarized using the **correlation coefficient**, defined as\n",
        "$$ R = \\frac{1}{n-1} \\text{sum of } \\frac{(X - \\bar X)(Y - \\bar Y)}{sd(X) sd(Y)}. $$\n",
        "The value of $R$ is always between $-1$ and $1$.\n",
        "\n",
        "- The sign of $R$ indicates the direction of the relationship.\n",
        "  - If $R > 0$, then $X$ and $Y$ move together. (As $X$ increases, $Y$ increases.)\n",
        "  - If $R < 0$, then $X$ and $Y$ move in opposite directions. (As $X$ increases, $Y$ decreases.)\n",
        "- The magnitude of $R$ indicates the strength of the relationship. $R = \\pm 1$ indicates a perfect linear relationship.\n",
        "\n",
        "To calculate $R$, Pandas provides a function, `Series.corr`."
      ],
      "metadata": {
        "id": "oKsbBy4EM5aH"
      }
    },
    {
      "cell_type": "code",
      "source": [
        "df_workers[\"educ\"].corr(df_workers[\"earnings\"])"
      ],
      "metadata": {
        "id": "GKnw2Sh3MKCU"
      },
      "execution_count": null,
      "outputs": []
    },
    {
      "cell_type": "markdown",
      "source": [
        "It does not matter what order you specify the variables."
      ],
      "metadata": {
        "id": "ixjnTduaOh9h"
      }
    },
    {
      "cell_type": "code",
      "source": [
        "df_workers[\"earnings\"].corr(df_workers[\"educ\"])"
      ],
      "metadata": {
        "id": "EbwxUp3DLTSi"
      },
      "execution_count": null,
      "outputs": []
    },
    {
      "cell_type": "markdown",
      "source": [
        "$R$ is positive, so education and earnings move together. Higher education is associated with higher earnings. $R$ is also moderately large, indicating that the relationship is strong."
      ],
      "metadata": {
        "id": "uLUDEqu3O1WB"
      }
    },
    {
      "cell_type": "markdown",
      "source": [
        "**Exercise 4.** Make a scatterplot showing the relationship between height and earnings. Calculate the correlation coefficient. How would you compare the relationship between height and earnings to the relationship between education and earnings?"
      ],
      "metadata": {
        "id": "1eji4upePAPL"
      }
    },
    {
      "cell_type": "code",
      "source": [
        "# YOUR CODE HERE"
      ],
      "metadata": {
        "id": "HXFSvqYFOxqi"
      },
      "execution_count": null,
      "outputs": []
    },
    {
      "cell_type": "markdown",
      "source": [
        "_YOUR CONCLUSION HERE_"
      ],
      "metadata": {
        "id": "FEp4-DQnRJ_k"
      }
    }
  ]
}