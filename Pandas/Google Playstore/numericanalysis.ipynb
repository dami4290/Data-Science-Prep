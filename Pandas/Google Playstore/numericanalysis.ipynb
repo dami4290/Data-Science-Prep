{
 "cells": [
  {
   "cell_type": "code",
   "execution_count": 4,
   "metadata": {},
   "outputs": [],
   "source": [
    "import pandas as pd"
   ]
  },
  {
   "cell_type": "code",
   "execution_count": 5,
   "metadata": {},
   "outputs": [],
   "source": [
    "df=pd.read_csv(\"googleplaystore.csv\").dropna()"
   ]
  },
  {
   "cell_type": "code",
   "execution_count": 7,
   "metadata": {},
   "outputs": [
    {
     "data": {
      "text/plain": [
       "0        4.1\n",
       "1        3.9\n",
       "2        4.7\n",
       "3        4.5\n",
       "4        4.3\n",
       "        ... \n",
       "10834    4.0\n",
       "10836    4.5\n",
       "10837    5.0\n",
       "10839    4.5\n",
       "10840    4.5\n",
       "Name: Rating, Length: 9360, dtype: float64"
      ]
     },
     "execution_count": 7,
     "metadata": {},
     "output_type": "execute_result"
    }
   ],
   "source": [
    "df[\"Rating\"]"
   ]
  },
  {
   "cell_type": "code",
   "execution_count": 8,
   "metadata": {},
   "outputs": [
    {
     "name": "stdout",
     "output_type": "stream",
     "text": [
      "4.191837606837612\n"
     ]
    }
   ],
   "source": [
    "sum=0\n",
    "for i in df[\"Rating\"]:\n",
    "    sum=sum+i\n",
    "average=sum/len(df[\"Rating\"])\n",
    "print(average)"
   ]
  },
  {
   "cell_type": "code",
   "execution_count": 9,
   "metadata": {},
   "outputs": [
    {
     "data": {
      "text/plain": [
       "4.191837606837606"
      ]
     },
     "execution_count": 9,
     "metadata": {},
     "output_type": "execute_result"
    }
   ],
   "source": [
    "df[\"Rating\"].mean()"
   ]
  },
  {
   "cell_type": "code",
   "execution_count": 11,
   "metadata": {},
   "outputs": [
    {
     "data": {
      "text/plain": [
       "4.3"
      ]
     },
     "execution_count": 11,
     "metadata": {},
     "output_type": "execute_result"
    }
   ],
   "source": [
    "df[\"Rating\"].median()"
   ]
  },
  {
   "cell_type": "code",
   "execution_count": 15,
   "metadata": {},
   "outputs": [
    {
     "name": "stdout",
     "output_type": "stream",
     "text": [
      "274\n"
     ]
    }
   ],
   "source": [
    "numfive=0\n",
    "for i in df[\"Rating\"]:\n",
    "    if i== 5:\n",
    "        numfive=numfive+1\n",
    "print(numfive)"
   ]
  },
  {
   "cell_type": "code",
   "execution_count": 16,
   "metadata": {},
   "outputs": [
    {
     "data": {
      "text/plain": [
       "App                                Category            Rating  Reviews  Size  Installs  Type  Price  Content Rating  Genres            Last Updated      Current Ver      Android Ver \n",
       "420 BZ Budeze Delivery             MEDICAL             5.0     2        11M   100+      Free  0      Mature 17+      Medical           June 6, 2018      1.0.1            4.1 and up      2\n",
       "BP Journal - Blood Pressure Diary  MEDICAL             5.0     6        26M   1,000+    Free  0      Everyone        Medical           May 25, 2018      1.0.32           4.4 and up      2\n",
       "Sway Medical                       MEDICAL             5.0     3        22M   100+      Free  0      Everyone        Medical           July 25, 2018     3.0.0            5.0 and up      2\n",
       "211:CK                             GAME                5.0     8        38M   10+       Paid  $0.99  Teen            Arcade            April 11, 2018    1.3              4.1 and up      1\n",
       "Galaxies of Hope                   MEDICAL             5.0     2        24M   50+       Free  0      Everyone        Medical           July 27, 2018     1.0              4.1 and up      1\n",
       "                                                                                                                                                                                         ..\n",
       "Chronolink DX                      FAMILY              5.0     7        73M   10+       Paid  $0.99  Everyone        Puzzle            July 6, 2017      1.2              4.1 and up      1\n",
       "Clinic Doctor EHr                  MEDICAL             5.0     2        7.1M  5+        Free  0      Everyone        Medical           August 3, 2018    1.0.51.0.3       8.0 and up      1\n",
       "Cloud DX Connected Health          HEALTH_AND_FITNESS  5.0     6        11M   100+      Free  0      Everyone        Health & Fitness  July 19, 2017     1.7.10713 (281)  4.4 and up      1\n",
       "Color CL                           LIFESTYLE           5.0     2        1.3M  100+      Free  0      Everyone        Lifestyle         February 2, 2017  1.01             4.0.3 and up    1\n",
       "meStudying: AP English Lit         FAMILY              5.0     1        655k  10+       Paid  $4.99  Everyone        Education         August 31, 2013   1.3              2.0.1 and up    1\n",
       "Name: count, Length: 271, dtype: int64"
      ]
     },
     "execution_count": 16,
     "metadata": {},
     "output_type": "execute_result"
    }
   ],
   "source": [
    "df[df[\"Rating\"]==5].value_counts()"
   ]
  }
 ],
 "metadata": {
  "kernelspec": {
   "display_name": "ds",
   "language": "python",
   "name": "python3"
  },
  "language_info": {
   "codemirror_mode": {
    "name": "ipython",
    "version": 3
   },
   "file_extension": ".py",
   "mimetype": "text/x-python",
   "name": "python",
   "nbconvert_exporter": "python",
   "pygments_lexer": "ipython3",
   "version": "3.9.19"
  }
 },
 "nbformat": 4,
 "nbformat_minor": 2
}
